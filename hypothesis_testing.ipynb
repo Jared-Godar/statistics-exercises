{
 "cells": [
  {
   "cell_type": "markdown",
   "id": "7e0dc27a",
   "metadata": {},
   "source": [
    "For each of the following questions, formulate a null and alternative hypothesis (be as specific as you can be), then give an example of what a true positive, true negative, type I and type II errors would look like. Note that some of the questions are intentionally phrased in a vague way. It is your job to reword these as more precise questions that could be tested."
   ]
  },
  {
   "cell_type": "markdown",
   "id": "f6e3a6b9",
   "metadata": {},
   "source": [
    "1.  Has the network latency gone up since we switched internet service providers?\n",
    "\n",
    "   - **H<sub>0</sub>**: There is no change in latency since switching providers\n",
    "\n",
    "   - **H<sub>A</sub>**: Latency has gone up since switching providers (one-sided t-test)\n",
    "\n",
    "     | H<sub>0</sub> is: |\n",
    "\n",
    "     |                  | Null hypothesis is:                                          |                                                              |\n",
    "     | ---------------- | ------------------------------------------------------------ | ------------------------------------------------------------ |\n",
    "     |                  | **TRUE**                                                     | **FALSE**                                                    |\n",
    "     | **DON'T REJECT** | There is no change in latency<br />Correct inference<br />(true negative)<br />P=1-⍺ | Type II error<br />(false negative)<br />Conclude there is no change in latency when there really is a change<br />P=β |\n",
    "     | **REJECT**       | Type I error<br />False Positive<br />We conclude latency has gone up, when really there is no change<br />P=⍺ | Latency has gone up<br />Correct inference<br />(true positive)<br />P=1-β |"
   ]
  },
  {
   "cell_type": "code",
   "execution_count": null,
   "id": "a1292857",
   "metadata": {},
   "outputs": [],
   "source": []
  }
 ],
 "metadata": {
  "kernelspec": {
   "display_name": "Python 3",
   "language": "python",
   "name": "python3"
  },
  "language_info": {
   "codemirror_mode": {
    "name": "ipython",
    "version": 3
   },
   "file_extension": ".py",
   "mimetype": "text/x-python",
   "name": "python",
   "nbconvert_exporter": "python",
   "pygments_lexer": "ipython3",
   "version": "3.8.8"
  }
 },
 "nbformat": 4,
 "nbformat_minor": 5
}
