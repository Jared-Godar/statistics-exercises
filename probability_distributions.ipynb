{
 "cells": [
  {
   "cell_type": "markdown",
   "id": "af3e873b",
   "metadata": {},
   "source": [
    "<h2 id=\"exercises\">Exercises</h2>\n",
    "<p>Do your work for this exercise in either a python script named <code>probability_distributions.py</code> or a jupyter notebook named <code>probability_distributions.ipynb</code>.</p>\n",
    "<p>For the following problems, use python to simulate the problem and calculate an experimental probability, then compare that to the theoretical probability.</p>\n"
   ]
  },
  {
   "cell_type": "code",
   "execution_count": 2,
   "id": "5edea286",
   "metadata": {},
   "outputs": [],
   "source": [
    "import matplotlib.pyplot as plt\n",
    "import numpy as np\n",
    "import pandas as pd\n",
    "from scipy import stats\n",
    "import env"
   ]
  },
  {
   "cell_type": "code",
   "execution_count": null,
   "id": "b86de04a",
   "metadata": {},
   "outputs": [],
   "source": [
    "# NOTE: I missed this class day working the election, \n",
    "# so I used the posted exercise review heavily when completeing these\n",
    "# but I did read the curriculum and work through all exercises"
   ]
  },
  {
   "cell_type": "markdown",
   "id": "0337967d",
   "metadata": {},
   "source": [
    "1. <p>A bank found that the average number of cars waiting during the noon hour at a drive-up window follows a Poisson distribution with a mean of 2 cars. Make a chart of this distribution and answer these questions concerning the probability of cars waiting at the drive-up window.</p>"
   ]
  },
  {
   "cell_type": "code",
   "execution_count": 6,
   "id": "7870f5a5",
   "metadata": {},
   "outputs": [
    {
     "data": {
      "image/png": "[encoded data removed]",
      "text/plain": [
       "<Figure size 432x288 with 1 Axes>"
      ]
     },
     "metadata": {
      "needs_background": "light"
     },
     "output_type": "display_data"
    }
   ],
   "source": [
    "mean_wait = 2\n",
    "\n",
    "x = np.arange(0,12)\n",
    "y = stats.poisson(mean_wait).pmf(x)\n",
    "\n",
    "plt.bar(x,y)\n",
    "plt.title('Poisson distribution with mean wait = 2')\n",
    "plt.xlabel('Number of cars')\n",
    "plt.ylabel('P(X)');"
   ]
  },
  {
   "cell_type": "markdown",
   "id": "926968e7",
   "metadata": {},
   "source": [
    "<li>What is the probability that no cars drive up in the noon hour?</li>\n"
   ]
  },
  {
   "cell_type": "code",
   "execution_count": 7,
   "id": "17c81bc1",
   "metadata": {},
   "outputs": [
    {
     "data": {
      "text/plain": [
       "0.1353352832366127"
      ]
     },
     "execution_count": 7,
     "metadata": {},
     "output_type": "execute_result"
    }
   ],
   "source": [
    "stats.poisson(mean_wait).pmf(0)"
   ]
  },
  {
   "cell_type": "markdown",
   "id": "c2794bcf",
   "metadata": {},
   "source": [
    "<li>What is the probability that 3 or more cars come through the drive through?</li>\n"
   ]
  },
  {
   "cell_type": "code",
   "execution_count": 9,
   "id": "f5fd2930",
   "metadata": {},
   "outputs": [
    {
     "data": {
      "text/plain": [
       "0.32332358381693654"
      ]
     },
     "execution_count": 9,
     "metadata": {},
     "output_type": "execute_result"
    }
   ],
   "source": [
    "#Remember - surfival function is the only cut-off that is non-inclusive\n",
    "# Must pass n-3 here 3-1=2\n",
    "\n",
    "stats.poisson(mean_wait).sf(2)\n"
   ]
  },
  {
   "cell_type": "markdown",
   "id": "dc9fec8b",
   "metadata": {},
   "source": [
    "<li>How likely is it that the drive through gets at least 1 car?</li>\n"
   ]
  },
  {
   "cell_type": "code",
   "execution_count": 11,
   "id": "455b7a4e",
   "metadata": {},
   "outputs": [
    {
     "data": {
      "text/plain": [
       "0.32332358381693654"
      ]
     },
     "execution_count": 11,
     "metadata": {},
     "output_type": "execute_result"
    }
   ],
   "source": [
    "#Same as above 1-1 = 0\n",
    "\n",
    "stats.poisson(mean_wait).sf(mean_wait)\n"
   ]
  },
  {
   "cell_type": "markdown",
   "id": "7a228a42",
   "metadata": {},
   "source": [
    "2. <p>Grades of State University graduates are normally distributed with a mean of 3.0 and a standard deviation of .3. Calculate the following:</p>\n",
    "<ul>\n",
    "<li>What grade point average is required to be in the top 5% of the  graduating class?</li>"
   ]
  },
  {
   "cell_type": "code",
   "execution_count": 12,
   "id": "03d0b50e",
   "metadata": {},
   "outputs": [
    {
     "data": {
      "text/plain": [
       "3.4934560880854417"
      ]
     },
     "execution_count": 12,
     "metadata": {},
     "output_type": "execute_result"
    }
   ],
   "source": [
    "stats.norm(3, 0.3).isf(0.05)"
   ]
  },
  {
   "cell_type": "markdown",
   "id": "8d080399",
   "metadata": {},
   "source": [
    "<li>What GPA constitutes the bottom 15% of the class?</li>\n"
   ]
  },
  {
   "cell_type": "code",
   "execution_count": 13,
   "id": "998f98dd",
   "metadata": {},
   "outputs": [
    {
     "data": {
      "text/plain": [
       "2.689069983151863"
      ]
     },
     "execution_count": 13,
     "metadata": {},
     "output_type": "execute_result"
    }
   ],
   "source": [
    "stats.norm(3, 0.3).ppf(0.15)"
   ]
  },
  {
   "cell_type": "markdown",
   "id": "3853800e",
   "metadata": {},
   "source": [
    "<li>An eccentric alumnus left scholarship money for students in the third decile from the bottom of their class. Determine the range of the third decile. Would a student with a 2.8 grade point average  qualify for this scholarship?</li>"
   ]
  },
  {
   "cell_type": "code",
   "execution_count": 14,
   "id": "5c73580e",
   "metadata": {},
   "outputs": [
    {
     "data": {
      "text/plain": [
       "array([2.74751363, 2.84267985])"
      ]
     },
     "execution_count": 14,
     "metadata": {},
     "output_type": "execute_result"
    }
   ],
   "source": [
    "stats.norm(3, 0.3).ppf([0.2, 0.3])"
   ]
  },
  {
   "cell_type": "markdown",
   "id": "c7f232e2",
   "metadata": {},
   "source": [
    "<li>If I have a GPA of 3.5, what percentile am I in?</li>\n"
   ]
  },
  {
   "cell_type": "code",
   "execution_count": 15,
   "id": "16502ab8",
   "metadata": {},
   "outputs": [
    {
     "data": {
      "text/plain": [
       "0.9522096477271853"
      ]
     },
     "execution_count": 15,
     "metadata": {},
     "output_type": "execute_result"
    }
   ],
   "source": [
    "stats.norm(3, 0.3).cdf(3.5)"
   ]
  },
  {
   "cell_type": "code",
   "execution_count": 16,
   "id": "6269a4bf",
   "metadata": {},
   "outputs": [
    {
     "data": {
      "text/plain": [
       "0.9528"
      ]
     },
     "execution_count": 16,
     "metadata": {},
     "output_type": "execute_result"
    }
   ],
   "source": [
    "# From review: simulation alternate approach:\n",
    "\n",
    "(np.random.normal(3, 0.3, 100_000) < 3.5).mean()"
   ]
  },
  {
   "cell_type": "markdown",
   "id": "a2e0022b",
   "metadata": {},
   "source": [
    "3. <p>A marketing website has an average click-through rate of 2%. One day they observe 4326 visitors and 97 click-throughs. How likely is it that this many people or more click through?</p>"
   ]
  },
  {
   "cell_type": "code",
   "execution_count": 20,
   "id": "76c7d8bc",
   "metadata": {},
   "outputs": [
    {
     "data": {
      "text/plain": [
       "0.1397582363130086"
      ]
     },
     "execution_count": 20,
     "metadata": {},
     "output_type": "execute_result"
    }
   ],
   "source": [
    "#Remember sf n-1 97-1 = 96!\n",
    "\n",
    "stats.binom(4326, 0.02).sf(96)"
   ]
  },
  {
   "cell_type": "code",
   "execution_count": 19,
   "id": "2bb6145b",
   "metadata": {},
   "outputs": [
    {
     "data": {
      "text/plain": [
       "0.147"
      ]
     },
     "execution_count": 19,
     "metadata": {},
     "output_type": "execute_result"
    }
   ],
   "source": [
    "# From review - simulation approach\n",
    "# Ran this a few times and have a significantly higher answer than from the direct calculation above\n",
    "\n",
    "clicks = np.random.choice([0,1], size = (10_000, 4326), p = (0.98, 0.02))\n",
    "(clicks.sum(axis = 1) >= 97).mean()"
   ]
  },
  {
   "cell_type": "code",
   "execution_count": 22,
   "id": "b5d7a70c",
   "metadata": {},
   "outputs": [
    {
     "data": {
      "text/plain": [
       "0.14211867659283192"
      ]
     },
     "execution_count": 22,
     "metadata": {},
     "output_type": "execute_result"
    }
   ],
   "source": [
    "# Another alternative approach from the exercise review\n",
    "# Using poisson approximation\n",
    "#This answer is close to the simulation, but also significantly different than the direct calculation\n",
    "\n",
    "n = 4326\n",
    "p = 0.02\n",
    "\n",
    "λ = n * p \n",
    "\n",
    "stats.poisson(λ).sf(96)"
   ]
  },
  {
   "cell_type": "markdown",
   "id": "f98de1ba",
   "metadata": {},
   "source": [
    "4. <p>You are working on some statistics homework consisting of 100 questions where all of the answers are a probability rounded to the hundreths place. Looking to save time, you put down random probabilities as the answer to each question. What is the probability that at least one of your first 60 answers is correct?</p>"
   ]
  },
  {
   "cell_type": "code",
   "execution_count": 23,
   "id": "36ab36d5",
   "metadata": {},
   "outputs": [
    {
     "data": {
      "text/plain": [
       "0.4528433576092388"
      ]
     },
     "execution_count": 23,
     "metadata": {},
     "output_type": "execute_result"
    }
   ],
   "source": [
    "stats.binom(60, 0.01).sf(0)"
   ]
  },
  {
   "cell_type": "code",
   "execution_count": 24,
   "id": "3d011e41",
   "metadata": {},
   "outputs": [
    {
     "data": {
      "text/plain": [
       "0.4525"
      ]
     },
     "execution_count": 24,
     "metadata": {},
     "output_type": "execute_result"
    }
   ],
   "source": [
    "# Simulation from exercise review\n",
    "\n",
    "((np.random.choice([0,1], size = (100_000, 60), p = (0.99, 0.01))).sum(axis =1) >0).mean()"
   ]
  },
  {
   "cell_type": "markdown",
   "id": "96cd8730",
   "metadata": {},
   "source": [
    "5. <p>The codeup staff tends to get upset when the student break area is not cleaned up. Suppose that there's a 3% chance that any one student cleans the break area when they visit it, and, on any given day, about 90% of the 3 active cohorts of 22 students visit the break area. </p>\n",
    "\n",
    "- How likely is it that the break area gets cleaned up each day? "
   ]
  },
  {
   "cell_type": "code",
   "execution_count": 28,
   "id": "64279ae6",
   "metadata": {},
   "outputs": [
    {
     "data": {
      "text/plain": [
       "0.8342199288437355"
      ]
     },
     "execution_count": 28,
     "metadata": {},
     "output_type": "execute_result"
    }
   ],
   "source": [
    "stats.binom((0.9 * 3 * 22), 0.03).sf(0)"
   ]
  },
  {
   "cell_type": "markdown",
   "id": "234dc8dc",
   "metadata": {},
   "source": [
    "- How likely is it that it goes two days without getting cleaned up?"
   ]
  },
  {
   "cell_type": "code",
   "execution_count": 30,
   "id": "3f80b634",
   "metadata": {},
   "outputs": [
    {
     "data": {
      "text/plain": [
       "0.026821436301629073"
      ]
     },
     "execution_count": 30,
     "metadata": {},
     "output_type": "execute_result"
    }
   ],
   "source": [
    "stats.binom((0.9 * 3 * 22 * 2), 0.03).pmf(0)"
   ]
  },
  {
   "cell_type": "markdown",
   "id": "6244d7f0",
   "metadata": {},
   "source": [
    "- All week?"
   ]
  },
  {
   "cell_type": "code",
   "execution_count": 31,
   "id": "307e7566",
   "metadata": {},
   "outputs": [
    {
     "data": {
      "text/plain": [
       "0.00011781621791055144"
      ]
     },
     "execution_count": 31,
     "metadata": {},
     "output_type": "execute_result"
    }
   ],
   "source": [
    "stats.binom((0.9 * 3 * 22 * 5), 0.03).pmf(0)"
   ]
  },
  {
   "cell_type": "markdown",
   "id": "079d3bcc",
   "metadata": {},
   "source": [
    "6. <p>You want to get lunch at La Panaderia, but notice that the line is usually very long at lunchtime. \n",
    "    \n",
    "    After several weeks of careful observation, you notice that the average number of people in line when your lunch break starts is normally distributed with a mean of 15 and standard deviation of 3. \n",
    "    \n",
    "    If it takes 2 minutes for each person to order, and 10 minutes from ordering to getting your food, what is the likelihood that you have at least 15 minutes left to eat your food before you have to go back to class? \n",
    "    \n",
    "    Assume you have one hour for lunch, and ignore travel time to and from La Panaderia.</p>"
   ]
  },
  {
   "cell_type": "code",
   "execution_count": 32,
   "id": "067ff9a2",
   "metadata": {},
   "outputs": [
    {
     "data": {
      "text/plain": [
       "0.6914624612740131"
      ]
     },
     "execution_count": 32,
     "metadata": {},
     "output_type": "execute_result"
    }
   ],
   "source": [
    "# Convert to minutes\n",
    "mean = 15 * 2 \n",
    "std_dev = 3 * 2 \n",
    "\n",
    "\n",
    "stats.norm(mean, std_dev).cdf(33)"
   ]
  },
  {
   "cell_type": "markdown",
   "id": "86545c6a",
   "metadata": {},
   "source": [
    "7. <p>Connect to the <code>employees</code> database and find the average salary of current employees, along with the standard deviation. For the following questions, calculate the answer based on modeling the employees salaries with a normal distribution defined by the calculated mean and standard deviation then compare this answer to the actual values present in the salaries dataset.</p>\n",
    "\n",
    "<li>What percent of employees earn less than 60,000?</li>\n"
   ]
  },
  {
   "cell_type": "code",
   "execution_count": 34,
   "id": "97664811",
   "metadata": {},
   "outputs": [
    {
     "data": {
      "text/html": [
       "<div>\n",
       "<style scoped>\n",
       "    .dataframe tbody tr th:only-of-type {\n",
       "        vertical-align: middle;\n",
       "    }\n",
       "\n",
       "    .dataframe tbody tr th {\n",
       "        vertical-align: top;\n",
       "    }\n",
       "\n",
       "    .dataframe thead th {\n",
       "        text-align: right;\n",
       "    }\n",
       "</style>\n",
       "<table border=\"1\" class=\"dataframe\">\n",
       "  <thead>\n",
       "    <tr style=\"text-align: right;\">\n",
       "      <th></th>\n",
       "      <th>emp_no</th>\n",
       "      <th>salary</th>\n",
       "      <th>from_date</th>\n",
       "      <th>to_date</th>\n",
       "    </tr>\n",
       "  </thead>\n",
       "  <tbody>\n",
       "    <tr>\n",
       "      <th>0</th>\n",
       "      <td>10001</td>\n",
       "      <td>88958</td>\n",
       "      <td>2002-06-22</td>\n",
       "      <td>9999-01-01</td>\n",
       "    </tr>\n",
       "    <tr>\n",
       "      <th>1</th>\n",
       "      <td>10002</td>\n",
       "      <td>72527</td>\n",
       "      <td>2001-08-02</td>\n",
       "      <td>9999-01-01</td>\n",
       "    </tr>\n",
       "    <tr>\n",
       "      <th>2</th>\n",
       "      <td>10003</td>\n",
       "      <td>43311</td>\n",
       "      <td>2001-12-01</td>\n",
       "      <td>9999-01-01</td>\n",
       "    </tr>\n",
       "    <tr>\n",
       "      <th>3</th>\n",
       "      <td>10004</td>\n",
       "      <td>74057</td>\n",
       "      <td>2001-11-27</td>\n",
       "      <td>9999-01-01</td>\n",
       "    </tr>\n",
       "    <tr>\n",
       "      <th>4</th>\n",
       "      <td>10005</td>\n",
       "      <td>94692</td>\n",
       "      <td>2001-09-09</td>\n",
       "      <td>9999-01-01</td>\n",
       "    </tr>\n",
       "  </tbody>\n",
       "</table>\n",
       "</div>"
      ],
      "text/plain": [
       "   emp_no  salary   from_date     to_date\n",
       "0   10001   88958  2002-06-22  9999-01-01\n",
       "1   10002   72527  2001-08-02  9999-01-01\n",
       "2   10003   43311  2001-12-01  9999-01-01\n",
       "3   10004   74057  2001-11-27  9999-01-01\n",
       "4   10005   94692  2001-09-09  9999-01-01"
      ]
     },
     "execution_count": 34,
     "metadata": {},
     "output_type": "execute_result"
    }
   ],
   "source": [
    "url = f'mysql+pymysql://{env.user}:{env.password}@{env.host}/employees'\n",
    "query = '''\n",
    "SELECT *\n",
    "FROM salaries s\n",
    "WHERE s.to_date > NOW()\n",
    "'''\n",
    "salaries = pd.read_sql(query, url)\n",
    "salaries.head()"
   ]
  },
  {
   "cell_type": "code",
   "execution_count": 39,
   "id": "949ec635",
   "metadata": {},
   "outputs": [
    {
     "name": "stdout",
     "output_type": "stream",
     "text": [
      "72012.23585730705\n",
      "17309.99538025198\n"
     ]
    }
   ],
   "source": [
    "salary_mean = salaries.salary.mean()\n",
    "salary_std_dev = salaries.salary.std()\n",
    "print(salary_mean)\n",
    "print(salary_std_dev)"
   ]
  },
  {
   "cell_type": "markdown",
   "id": "612ce7e4",
   "metadata": {},
   "source": [
    "<li>What percent of employees earn more than 95,000?</li>\n"
   ]
  },
  {
   "cell_type": "code",
   "execution_count": 40,
   "id": "7bd8a939",
   "metadata": {},
   "outputs": [
    {
     "data": {
      "text/plain": [
       "0.24385742480214423"
      ]
     },
     "execution_count": 40,
     "metadata": {},
     "output_type": "execute_result"
    }
   ],
   "source": [
    "stats.norm(mean, std_dev).cdf(60000)\n"
   ]
  },
  {
   "cell_type": "markdown",
   "id": "b88c1df2",
   "metadata": {},
   "source": [
    "- What percent earn more than $95,000"
   ]
  },
  {
   "cell_type": "code",
   "execution_count": 41,
   "id": "db4d00d5",
   "metadata": {},
   "outputs": [
    {
     "data": {
      "text/plain": [
       "0.09208819199804053"
      ]
     },
     "execution_count": 41,
     "metadata": {},
     "output_type": "execute_result"
    }
   ],
   "source": [
    "stats.norm(mean, std_dev).sf(95000)"
   ]
  },
  {
   "cell_type": "markdown",
   "id": "58866276",
   "metadata": {},
   "source": [
    "<li>What percent of employees earn between 65,000 and 80,000?</li>\n"
   ]
  },
  {
   "cell_type": "code",
   "execution_count": 42,
   "id": "4972864c",
   "metadata": {},
   "outputs": [
    {
     "data": {
      "text/plain": [
       "array([0.33506057])"
      ]
     },
     "execution_count": 42,
     "metadata": {},
     "output_type": "execute_result"
    }
   ],
   "source": [
    "np.diff(stats.norm(mean, std_dev).cdf([65000, 80000]))\n"
   ]
  },
  {
   "cell_type": "markdown",
   "id": "38ac4f5b",
   "metadata": {},
   "source": [
    "<li>What do the top 5% of employees make?</li>"
   ]
  },
  {
   "cell_type": "code",
   "execution_count": 43,
   "id": "36f6764e",
   "metadata": {},
   "outputs": [
    {
     "data": {
      "text/plain": [
       "104225.84999999998"
      ]
     },
     "execution_count": 43,
     "metadata": {},
     "output_type": "execute_result"
    }
   ],
   "source": [
    "salaries.salary.quantile(0.95)\n"
   ]
  },
  {
   "cell_type": "markdown",
   "id": "138dbba9",
   "metadata": {},
   "source": [
    "---"
   ]
  },
  {
   "cell_type": "markdown",
   "id": "c9ff39da",
   "metadata": {},
   "source": [
    "<p><strong>Hint</strong> If you're looking at this exercise and wondering \"How do I get pandas to talk the database, again?\", remember that you'll need 3 things: your <code>.gitignore</code>, your <code>env.py</code>, and to use <code>pd.read_sql</code>.</p>\n",
    "<p>Be sure to run the following 2 commands from your terminal:\n",
    "1. <code>cp ~/codeup-data-science/numpy-pandas-visualization-exercises/.gitignore ~/codeup-data-science/statistics-exercises</code> to ensure that your stats repo has a known-good gitignore\n",
    "2. <code>cp ~/codeup-data-science/numpy-pandas-exercises/env.py ~/codeup-data-science/statistics-exercises</code> to ensure that pandas will have access to your db credentials.</p>"
   ]
  }
 ],
 "metadata": {
  "kernelspec": {
   "display_name": "Python 3",
   "language": "python",
   "name": "python3"
  },
  "language_info": {
   "codemirror_mode": {
    "name": "ipython",
    "version": 3
   },
   "file_extension": ".py",
   "mimetype": "text/x-python",
   "name": "python",
   "nbconvert_exporter": "python",
   "pygments_lexer": "ipython3",
   "version": "3.8.8"
  }
 },
 "nbformat": 4,
 "nbformat_minor": 5
}
