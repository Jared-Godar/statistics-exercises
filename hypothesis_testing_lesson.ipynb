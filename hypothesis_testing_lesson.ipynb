{
 "cells": [
  {
   "cell_type": "markdown",
   "id": "e4cede4c",
   "metadata": {},
   "source": [
    "# Hypothesis Testing\n",
    "\n",
    "## Branch of Applied, inferential, statistics\n",
    "\n",
    "1. Trying to make inferences from a sample and generalize them to a population\n",
    "2. Compares, tests, and predicts future outcomes\n",
    "3. \n",
    "\n",
    "### Let's play a game\n",
    "\n",
    "- Heads you give me a dollar\n",
    "- Tails I give you a dollar\n",
    "\n",
    "- Is that sample representative of the population of fail coins\n",
    "\n",
    "### Null hypothesis: no difference between samples\n",
    "\n",
    "- H0 = theta = 0;5\n",
    "- HA: theta > 0.5\n",
    "\n",
    "### Confidence interval\n",
    "- Outside interval reject null hypothesis\n",
    "- Within confidence interval, fail to reject null hypothesis\n"
   ]
  },
  {
   "cell_type": "code",
   "execution_count": null,
   "id": "0c53140d",
   "metadata": {},
   "outputs": [],
   "source": []
  }
 ],
 "metadata": {
  "kernelspec": {
   "display_name": "Python 3",
   "language": "python",
   "name": "python3"
  },
  "language_info": {
   "codemirror_mode": {
    "name": "ipython",
    "version": 3
   },
   "file_extension": ".py",
   "mimetype": "text/x-python",
   "name": "python",
   "nbconvert_exporter": "python",
   "pygments_lexer": "ipython3",
   "version": "3.8.8"
  }
 },
 "nbformat": 4,
 "nbformat_minor": 5
}
