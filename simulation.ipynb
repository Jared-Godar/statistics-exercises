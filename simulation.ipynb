{
 "cells": [
  {
   "cell_type": "code",
   "execution_count": null,
   "id": "d7013a41",
   "metadata": {},
   "outputs": [],
   "source": [
    "# Create datafram for each scenario\n",
    "# Each row will be one trial\n",
    "# Each value represents a randomly generated output based on the probability in the scenario\n",
    "# Check each row\n",
    "# Create overall probability"
   ]
  },
  {
   "cell_type": "code",
   "execution_count": 1,
   "id": "a56a3549",
   "metadata": {},
   "outputs": [],
   "source": [
    "%matplotlib inline\n",
    "import numpy as np\n",
    "import pandas as pd\n",
    "\n",
    "import viz # curriculum example visualizations\n",
    "\n",
    "np.random.seed(29)"
   ]
  },
  {
   "cell_type": "markdown",
   "id": "4b558e6a",
   "metadata": {},
   "source": [
    "<h2 id=\"exercises\">Exercises</h2>\n",
    "<p>Within your <code>codeup-data-science</code> directory, create a directory named <code>statistics-exercises</code>. This will be where you do your work for this module. Create a repository on GitHub with the same name, and link your local repository to GitHub.</p>\n",
    "<p>Do your work for this exercise in either a python file named <code>simulation.py</code> or a jupyter notebook named <code>simulation.ipynb</code>.</p>\n",
    "<ol>\n",
    "<li>\n",
    "<p>How likely is it that you roll doubles when rolling two dice?</p>\n",
    "</li>\n",
    "<li>\n",
    "<p>If you flip 8 coins, what is the probability of getting exactly 3 heads? What is the probability of getting more than 3 heads?</p>\n",
    "</li>\n",
    "<li>\n",
    "<p>There are approximitely 3 web development cohorts for every 1 data science cohort at Codeup. Assuming that Codeup randomly selects an alumni to put on a billboard, what are the odds that the two billboards I drive past both have data science students on them?</p>\n",
    "</li>\n",
    "<li>\n",
    "<p>Codeup students buy, on average, 3 poptart packages with a standard deviation of 1.5 a day from the snack vending machine. If on monday the machine is restocked with 17 poptart packages, how likely is it that I will be able to buy some poptarts on Friday afternoon? (Remember, if you have mean and standard deviation, use the <code>np.random.normal</code>)</p>\n",
    "</li>\n",
    "<li>\n",
    "<p>Compare Heights</p>\n",
    "<ul>\n",
    "<li>Men have an average height of 178 cm and standard deviation of 8cm.</li>\n",
    "<li>Women have a mean of 170, sd = 6cm.</li>\n",
    "<li>Since you have means and standard deviations, you can use <code>np.random.normal</code> to generate observations.</li>\n",
    "<li>If a man and woman are chosen at random, P(woman taller than man)?</li>\n",
    "</ul>\n",
    "</li>\n",
    "<li>\n",
    "<p>When installing anaconda on a student's computer, there's a 1 in 250 chance\n",
    "   that the download is corrupted and the installation fails. What are the odds\n",
    "   that after having 50 students download anaconda, no one has an installation\n",
    "   issue?  100 students?</p>\n",
    "<p>What is the probability that we observe an installation issue within the first\n",
    "150 students that download anaconda?</p>\n",
    "<p>How likely is it that 450 students all download anaconda without an issue?</p>\n",
    "</li>\n",
    "<li>\n",
    "<p>There's a 70% chance on any given day that there will be at least one food\n",
    "   truck at Travis Park. However, you haven't seen a food truck there in 3 days.\n",
    "   How unlikely is this?</p>\n",
    "<p>How likely is it that a food truck will show up sometime this week?</p>\n",
    "</li>\n",
    "<li>\n",
    "<p>If 23 people are in the same room, what are the odds that two of them share a birthday? What if it's 20 people? 40?</p>\n",
    "</li>\n",
    "</ol>\n",
    "<h4 id=\"bonus-exercises\">Bonus Exercises</h4>\n",
    "<ul>\n",
    "<li><a href=\"https://gist.github.com/ryanorsinger/2996446f02c1bf30fcb3f8fdb88bd51d\">Mage Duel</a></li>\n",
    "<li><a href=\"https://gist.github.com/ryanorsinger/eac1d7b7e978f90b8390bdc056312123\">Chuck a Luck</a></li>\n",
    "</ul>"
   ]
  },
  {
   "cell_type": "markdown",
   "id": "259a7d59",
   "metadata": {},
   "source": [
    "1. How likely is it that you roll doubles when rolling two dice?"
   ]
  },
  {
   "cell_type": "code",
   "execution_count": 2,
   "id": "959bf0c6",
   "metadata": {},
   "outputs": [
    {
     "data": {
      "text/plain": [
       "array([[6, 4],\n",
       "       [5, 6],\n",
       "       [3, 1],\n",
       "       ...,\n",
       "       [5, 6],\n",
       "       [5, 5],\n",
       "       [6, 5]])"
      ]
     },
     "execution_count": 2,
     "metadata": {},
     "output_type": "execute_result"
    }
   ],
   "source": [
    "ntrials = nrows = 100_000 # number of trials\n",
    "ndice = ncols = 2       # number of random events in each trial\n",
    "die = [1, 2, 3, 4, 5, 6]\n",
    "\n",
    "rolls = np.random.choice(die, ntrials * ndice).reshape(nrows, ncols)\n",
    "rolls\n"
   ]
  },
  {
   "cell_type": "code",
   "execution_count": 13,
   "id": "296a2b7a",
   "metadata": {},
   "outputs": [
    {
     "data": {
      "text/plain": [
       "0.16645"
      ]
     },
     "execution_count": 13,
     "metadata": {},
     "output_type": "execute_result"
    }
   ],
   "source": [
    "rolls.apply(lambda row: row[0] == row[1], axis=1).mean()\n"
   ]
  },
  {
   "cell_type": "markdown",
   "id": "d374aae3",
   "metadata": {},
   "source": [
    "2. If you flip 8 coins, what is the probability of getting exactly 3 heads? What is the probability of getting more than 3 heads? "
   ]
  },
  {
   "cell_type": "code",
   "execution_count": 18,
   "id": "ae78c680",
   "metadata": {},
   "outputs": [],
   "source": [
    "coin = [0, 1]\n",
    "ntrials = nrows = 100_000\n",
    "nflips = ncols = 8"
   ]
  },
  {
   "cell_type": "code",
   "execution_count": 19,
   "id": "d5747171",
   "metadata": {},
   "outputs": [
    {
     "data": {
      "text/html": [
       "<div>\n",
       "<style scoped>\n",
       "    .dataframe tbody tr th:only-of-type {\n",
       "        vertical-align: middle;\n",
       "    }\n",
       "\n",
       "    .dataframe tbody tr th {\n",
       "        vertical-align: top;\n",
       "    }\n",
       "\n",
       "    .dataframe thead th {\n",
       "        text-align: right;\n",
       "    }\n",
       "</style>\n",
       "<table border=\"1\" class=\"dataframe\">\n",
       "  <thead>\n",
       "    <tr style=\"text-align: right;\">\n",
       "      <th></th>\n",
       "      <th>0</th>\n",
       "      <th>1</th>\n",
       "      <th>2</th>\n",
       "      <th>3</th>\n",
       "      <th>4</th>\n",
       "      <th>5</th>\n",
       "      <th>6</th>\n",
       "      <th>7</th>\n",
       "    </tr>\n",
       "  </thead>\n",
       "  <tbody>\n",
       "    <tr>\n",
       "      <th>0</th>\n",
       "      <td>1</td>\n",
       "      <td>0</td>\n",
       "      <td>1</td>\n",
       "      <td>0</td>\n",
       "      <td>1</td>\n",
       "      <td>1</td>\n",
       "      <td>1</td>\n",
       "      <td>1</td>\n",
       "    </tr>\n",
       "    <tr>\n",
       "      <th>1</th>\n",
       "      <td>0</td>\n",
       "      <td>1</td>\n",
       "      <td>0</td>\n",
       "      <td>1</td>\n",
       "      <td>0</td>\n",
       "      <td>1</td>\n",
       "      <td>0</td>\n",
       "      <td>0</td>\n",
       "    </tr>\n",
       "    <tr>\n",
       "      <th>2</th>\n",
       "      <td>0</td>\n",
       "      <td>0</td>\n",
       "      <td>1</td>\n",
       "      <td>0</td>\n",
       "      <td>0</td>\n",
       "      <td>0</td>\n",
       "      <td>1</td>\n",
       "      <td>1</td>\n",
       "    </tr>\n",
       "    <tr>\n",
       "      <th>3</th>\n",
       "      <td>0</td>\n",
       "      <td>0</td>\n",
       "      <td>1</td>\n",
       "      <td>1</td>\n",
       "      <td>0</td>\n",
       "      <td>0</td>\n",
       "      <td>1</td>\n",
       "      <td>0</td>\n",
       "    </tr>\n",
       "    <tr>\n",
       "      <th>4</th>\n",
       "      <td>0</td>\n",
       "      <td>1</td>\n",
       "      <td>1</td>\n",
       "      <td>0</td>\n",
       "      <td>0</td>\n",
       "      <td>1</td>\n",
       "      <td>1</td>\n",
       "      <td>0</td>\n",
       "    </tr>\n",
       "  </tbody>\n",
       "</table>\n",
       "</div>"
      ],
      "text/plain": [
       "   0  1  2  3  4  5  6  7\n",
       "0  1  0  1  0  1  1  1  1\n",
       "1  0  1  0  1  0  1  0  0\n",
       "2  0  0  1  0  0  0  1  1\n",
       "3  0  0  1  1  0  0  1  0\n",
       "4  0  1  1  0  0  1  1  0"
      ]
     },
     "execution_count": 19,
     "metadata": {},
     "output_type": "execute_result"
    }
   ],
   "source": [
    "np.random.seed(7)\n",
    "flips = np.random.choice(coin, ntrials * nflips).reshape(nrows, ncols)\n",
    "flips = pd.DataFrame(flips)\n",
    "flips.head()"
   ]
  },
  {
   "cell_type": "code",
   "execution_count": 22,
   "id": "0cc73c6f",
   "metadata": {},
   "outputs": [
    {
     "data": {
      "text/plain": [
       "0.21814"
      ]
     },
     "execution_count": 22,
     "metadata": {},
     "output_type": "execute_result"
    }
   ],
   "source": [
    "three_heads = flips.apply(lambda row: row.values.sum() == 3, axis=1).mean()\n",
    "three_heads"
   ]
  },
  {
   "cell_type": "code",
   "execution_count": 24,
   "id": "74cdec7e",
   "metadata": {},
   "outputs": [
    {
     "data": {
      "text/plain": [
       "0.91542"
      ]
     },
     "execution_count": 24,
     "metadata": {},
     "output_type": "execute_result"
    }
   ],
   "source": [
    "more_three = rolls.apply(lambda row: row.values.sum() > 3, axis=1).mean()\n",
    "more_three"
   ]
  },
  {
   "cell_type": "code",
   "execution_count": 27,
   "id": "08ad32b8",
   "metadata": {},
   "outputs": [
    {
     "data": {
      "text/html": [
       "<div>\n",
       "<style scoped>\n",
       "    .dataframe tbody tr th:only-of-type {\n",
       "        vertical-align: middle;\n",
       "    }\n",
       "\n",
       "    .dataframe tbody tr th {\n",
       "        vertical-align: top;\n",
       "    }\n",
       "\n",
       "    .dataframe thead th {\n",
       "        text-align: right;\n",
       "    }\n",
       "</style>\n",
       "<table border=\"1\" class=\"dataframe\">\n",
       "  <thead>\n",
       "    <tr style=\"text-align: right;\">\n",
       "      <th></th>\n",
       "      <th>0</th>\n",
       "      <th>1</th>\n",
       "    </tr>\n",
       "  </thead>\n",
       "  <tbody>\n",
       "    <tr>\n",
       "      <th>0</th>\n",
       "      <td>WD</td>\n",
       "      <td>WD</td>\n",
       "    </tr>\n",
       "    <tr>\n",
       "      <th>1</th>\n",
       "      <td>WD</td>\n",
       "      <td>WD</td>\n",
       "    </tr>\n",
       "    <tr>\n",
       "      <th>2</th>\n",
       "      <td>WD</td>\n",
       "      <td>WD</td>\n",
       "    </tr>\n",
       "    <tr>\n",
       "      <th>3</th>\n",
       "      <td>WD</td>\n",
       "      <td>WD</td>\n",
       "    </tr>\n",
       "    <tr>\n",
       "      <th>4</th>\n",
       "      <td>DS</td>\n",
       "      <td>DS</td>\n",
       "    </tr>\n",
       "  </tbody>\n",
       "</table>\n",
       "</div>"
      ],
      "text/plain": [
       "    0   1\n",
       "0  WD  WD\n",
       "1  WD  WD\n",
       "2  WD  WD\n",
       "3  WD  WD\n",
       "4  DS  DS"
      ]
     },
     "execution_count": 27,
     "metadata": {},
     "output_type": "execute_result"
    }
   ],
   "source": [
    "cohorts = ['WD', 'WD', 'WD', 'DS']\n",
    "ntrials = nrows = 100_000\n",
    "npicks = ncols = 2\n",
    "students = np.random.choice(cohorts, ntrials * npicks).reshape(nrows, ncols)\n",
    "students = pd.DataFrame(students)\n",
    "students.head()"
   ]
  },
  {
   "cell_type": "code",
   "execution_count": null,
   "id": "0b906258",
   "metadata": {},
   "outputs": [],
   "source": []
  },
  {
   "cell_type": "code",
   "execution_count": null,
   "id": "4d44000b",
   "metadata": {},
   "outputs": [],
   "source": []
  },
  {
   "cell_type": "code",
   "execution_count": 22,
   "id": "85407371",
   "metadata": {},
   "outputs": [
    {
     "data": {
      "text/plain": [
       "0.0"
      ]
     },
     "execution_count": 22,
     "metadata": {},
     "output_type": "execute_result"
    }
   ],
   "source": [
    "#3) 3 webdev to i ds\n",
    "billboard = np.random.choice (['DS', 'WD', 'WD', 'WD'], 100_000 * 2).reshape(100_000,2)\n",
    "\n",
    "both_ds = df.apply(lambda row: (row.values[0] == 'DS') and (row.values[1])).mean()\n",
    "both_ds"
   ]
  },
  {
   "cell_type": "code",
   "execution_count": null,
   "id": "847b8451",
   "metadata": {},
   "outputs": [],
   "source": []
  },
  {
   "cell_type": "code",
   "execution_count": null,
   "id": "22592bee",
   "metadata": {},
   "outputs": [],
   "source": []
  },
  {
   "cell_type": "code",
   "execution_count": null,
   "id": "86224b7d",
   "metadata": {},
   "outputs": [],
   "source": []
  },
  {
   "cell_type": "code",
   "execution_count": null,
   "id": "9aa34745",
   "metadata": {},
   "outputs": [],
   "source": []
  }
 ],
 "metadata": {
  "kernelspec": {
   "display_name": "Python 3",
   "language": "python",
   "name": "python3"
  },
  "language_info": {
   "codemirror_mode": {
    "name": "ipython",
    "version": 3
   },
   "file_extension": ".py",
   "mimetype": "text/x-python",
   "name": "python",
   "nbconvert_exporter": "python",
   "pygments_lexer": "ipython3",
   "version": "3.8.8"
  }
 },
 "nbformat": 4,
 "nbformat_minor": 5
}
