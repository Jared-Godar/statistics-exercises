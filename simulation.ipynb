{
 "cells": [
  {
   "cell_type": "markdown",
   "id": "ce1cb8de",
   "metadata": {},
   "source": [
    "## Simulation Exercises"
   ]
  },
  {
   "cell_type": "markdown",
   "id": "2d74b200",
   "metadata": {},
   "source": [
    "https://ds.codeup.com/stats/simulation/"
   ]
  },
  {
   "cell_type": "markdown",
   "id": "4b558e6a",
   "metadata": {},
   "source": [
    "<h2 id=\"exercises\">Exercises</h2>\n",
    "<p>Within your <code>codeup-data-science</code> directory, create a directory named <code>statistics-exercises</code>. This will be where you do your work for this module. Create a repository on GitHub with the same name, and link your local repository to GitHub.</p>\n",
    "<p>Do your work for this exercise in either a python file named <code>simulation.py</code> or a jupyter notebook named <code>simulation.ipynb</code>.</p>"
   ]
  },
  {
   "cell_type": "code",
   "execution_count": 2,
   "id": "a56a3549",
   "metadata": {},
   "outputs": [],
   "source": [
    "%matplotlib inline\n",
    "import numpy as np\n",
    "import pandas as pd\n",
    "import random\n",
    "\n",
    "import viz # curriculum example visualizations\n",
    "\n",
    "np.random.seed(29)"
   ]
  },
  {
   "cell_type": "markdown",
   "id": "259a7d59",
   "metadata": {},
   "source": [
    "1. How likely is it that you roll doubles when rolling two dice?"
   ]
  },
  {
   "cell_type": "code",
   "execution_count": 5,
   "id": "959bf0c6",
   "metadata": {},
   "outputs": [
    {
     "data": {
      "text/html": [
       "<div>\n",
       "<style scoped>\n",
       "    .dataframe tbody tr th:only-of-type {\n",
       "        vertical-align: middle;\n",
       "    }\n",
       "\n",
       "    .dataframe tbody tr th {\n",
       "        vertical-align: top;\n",
       "    }\n",
       "\n",
       "    .dataframe thead th {\n",
       "        text-align: right;\n",
       "    }\n",
       "</style>\n",
       "<table border=\"1\" class=\"dataframe\">\n",
       "  <thead>\n",
       "    <tr style=\"text-align: right;\">\n",
       "      <th></th>\n",
       "      <th>0</th>\n",
       "      <th>1</th>\n",
       "    </tr>\n",
       "  </thead>\n",
       "  <tbody>\n",
       "    <tr>\n",
       "      <th>0</th>\n",
       "      <td>2</td>\n",
       "      <td>6</td>\n",
       "    </tr>\n",
       "    <tr>\n",
       "      <th>1</th>\n",
       "      <td>6</td>\n",
       "      <td>1</td>\n",
       "    </tr>\n",
       "    <tr>\n",
       "      <th>2</th>\n",
       "      <td>5</td>\n",
       "      <td>2</td>\n",
       "    </tr>\n",
       "    <tr>\n",
       "      <th>3</th>\n",
       "      <td>5</td>\n",
       "      <td>2</td>\n",
       "    </tr>\n",
       "    <tr>\n",
       "      <th>4</th>\n",
       "      <td>6</td>\n",
       "      <td>1</td>\n",
       "    </tr>\n",
       "  </tbody>\n",
       "</table>\n",
       "</div>"
      ],
      "text/plain": [
       "   0  1\n",
       "0  2  6\n",
       "1  6  1\n",
       "2  5  2\n",
       "3  5  2\n",
       "4  6  1"
      ]
     },
     "execution_count": 5,
     "metadata": {},
     "output_type": "execute_result"
    }
   ],
   "source": [
    "ntrials = nrows = 100_000 # number of trials\n",
    "ndice = ncols = 2       # number of random events in each trial\n",
    "die = [1, 2, 3, 4, 5, 6]\n",
    "\n",
    "rolls = np.random.choice(die, ntrials * ndice).reshape(nrows, ncols)\n",
    "rolls = pd.DataFrame(rolls)\n",
    "rolls.head()\n"
   ]
  },
  {
   "cell_type": "code",
   "execution_count": 9,
   "id": "296a2b7a",
   "metadata": {},
   "outputs": [
    {
     "name": "stdout",
     "output_type": "stream",
     "text": [
      "The odds of rolling doubles when rolling two six-sided dice are 17%\n"
     ]
    }
   ],
   "source": [
    "odd_doubles_two = rolls.apply(lambda row: row[0] == row[1], axis=1).mean()"
   ]
  },
  {
   "cell_type": "markdown",
   "id": "d374aae3",
   "metadata": {},
   "source": [
    "2. If you flip 8 coins, what is the probability of getting exactly 3 heads? "
   ]
  },
  {
   "cell_type": "code",
   "execution_count": 10,
   "id": "ae78c680",
   "metadata": {},
   "outputs": [],
   "source": [
    "coin = [0, 1]\n",
    "ntrials = nrows = 100_000\n",
    "nflips = ncols = 8"
   ]
  },
  {
   "cell_type": "code",
   "execution_count": 11,
   "id": "d5747171",
   "metadata": {},
   "outputs": [
    {
     "data": {
      "text/html": [
       "<div>\n",
       "<style scoped>\n",
       "    .dataframe tbody tr th:only-of-type {\n",
       "        vertical-align: middle;\n",
       "    }\n",
       "\n",
       "    .dataframe tbody tr th {\n",
       "        vertical-align: top;\n",
       "    }\n",
       "\n",
       "    .dataframe thead th {\n",
       "        text-align: right;\n",
       "    }\n",
       "</style>\n",
       "<table border=\"1\" class=\"dataframe\">\n",
       "  <thead>\n",
       "    <tr style=\"text-align: right;\">\n",
       "      <th></th>\n",
       "      <th>0</th>\n",
       "      <th>1</th>\n",
       "      <th>2</th>\n",
       "      <th>3</th>\n",
       "      <th>4</th>\n",
       "      <th>5</th>\n",
       "      <th>6</th>\n",
       "      <th>7</th>\n",
       "    </tr>\n",
       "  </thead>\n",
       "  <tbody>\n",
       "    <tr>\n",
       "      <th>0</th>\n",
       "      <td>1</td>\n",
       "      <td>0</td>\n",
       "      <td>1</td>\n",
       "      <td>0</td>\n",
       "      <td>1</td>\n",
       "      <td>1</td>\n",
       "      <td>1</td>\n",
       "      <td>1</td>\n",
       "    </tr>\n",
       "    <tr>\n",
       "      <th>1</th>\n",
       "      <td>0</td>\n",
       "      <td>1</td>\n",
       "      <td>0</td>\n",
       "      <td>1</td>\n",
       "      <td>0</td>\n",
       "      <td>1</td>\n",
       "      <td>0</td>\n",
       "      <td>0</td>\n",
       "    </tr>\n",
       "    <tr>\n",
       "      <th>2</th>\n",
       "      <td>0</td>\n",
       "      <td>0</td>\n",
       "      <td>1</td>\n",
       "      <td>0</td>\n",
       "      <td>0</td>\n",
       "      <td>0</td>\n",
       "      <td>1</td>\n",
       "      <td>1</td>\n",
       "    </tr>\n",
       "    <tr>\n",
       "      <th>3</th>\n",
       "      <td>0</td>\n",
       "      <td>0</td>\n",
       "      <td>1</td>\n",
       "      <td>1</td>\n",
       "      <td>0</td>\n",
       "      <td>0</td>\n",
       "      <td>1</td>\n",
       "      <td>0</td>\n",
       "    </tr>\n",
       "    <tr>\n",
       "      <th>4</th>\n",
       "      <td>0</td>\n",
       "      <td>1</td>\n",
       "      <td>1</td>\n",
       "      <td>0</td>\n",
       "      <td>0</td>\n",
       "      <td>1</td>\n",
       "      <td>1</td>\n",
       "      <td>0</td>\n",
       "    </tr>\n",
       "  </tbody>\n",
       "</table>\n",
       "</div>"
      ],
      "text/plain": [
       "   0  1  2  3  4  5  6  7\n",
       "0  1  0  1  0  1  1  1  1\n",
       "1  0  1  0  1  0  1  0  0\n",
       "2  0  0  1  0  0  0  1  1\n",
       "3  0  0  1  1  0  0  1  0\n",
       "4  0  1  1  0  0  1  1  0"
      ]
     },
     "execution_count": 11,
     "metadata": {},
     "output_type": "execute_result"
    }
   ],
   "source": [
    "np.random.seed(7)\n",
    "flips = np.random.choice(coin, ntrials * nflips).reshape(nrows, ncols)\n",
    "flips = pd.DataFrame(flips)\n",
    "flips.head()"
   ]
  },
  {
   "cell_type": "code",
   "execution_count": 13,
   "id": "0cc73c6f",
   "metadata": {},
   "outputs": [
    {
     "name": "stdout",
     "output_type": "stream",
     "text": [
      "The odds of flipping exactly three heads when flipping eight fair coins are: 22%\n"
     ]
    }
   ],
   "source": [
    "three_heads = flips.apply(lambda row: row.values.sum() == 3, axis=1).mean()\n",
    "\n",
    "print(f'The odds of flipping exactly three heads when flipping eight fair coins are: {round(three_heads*100)}%')"
   ]
  },
  {
   "cell_type": "markdown",
   "id": "dd0e0272",
   "metadata": {},
   "source": [
    "- What is the probability of getting more than 3 heads? "
   ]
  },
  {
   "cell_type": "code",
   "execution_count": 15,
   "id": "74cdec7e",
   "metadata": {},
   "outputs": [
    {
     "name": "stdout",
     "output_type": "stream",
     "text": [
      "The odds of flipping more than  three heads when flipping eight fair coins are: 64%\n"
     ]
    }
   ],
   "source": [
    "more_three = flips.apply(lambda row: row.values.sum() > 3, axis=1).mean()\n",
    "print(f'The odds of flipping more than  three heads when flipping eight fair coins are: {round(more_three*100)}%')"
   ]
  },
  {
   "cell_type": "markdown",
   "id": "b483a254",
   "metadata": {},
   "source": [
    "3. <p>There are approximitely 3 web development cohorts for every 1 data science cohort at Codeup. Assuming that Codeup randomly selects an alumni to put on a billboard, what are the odds that the two billboards I drive past both have data science students on them?</p>"
   ]
  },
  {
   "cell_type": "code",
   "execution_count": 21,
   "id": "08ad32b8",
   "metadata": {},
   "outputs": [
    {
     "data": {
      "text/html": [
       "<div>\n",
       "<style scoped>\n",
       "    .dataframe tbody tr th:only-of-type {\n",
       "        vertical-align: middle;\n",
       "    }\n",
       "\n",
       "    .dataframe tbody tr th {\n",
       "        vertical-align: top;\n",
       "    }\n",
       "\n",
       "    .dataframe thead th {\n",
       "        text-align: right;\n",
       "    }\n",
       "</style>\n",
       "<table border=\"1\" class=\"dataframe\">\n",
       "  <thead>\n",
       "    <tr style=\"text-align: right;\">\n",
       "      <th></th>\n",
       "      <th>0</th>\n",
       "      <th>1</th>\n",
       "    </tr>\n",
       "  </thead>\n",
       "  <tbody>\n",
       "    <tr>\n",
       "      <th>0</th>\n",
       "      <td>WD</td>\n",
       "      <td>WD</td>\n",
       "    </tr>\n",
       "    <tr>\n",
       "      <th>1</th>\n",
       "      <td>DS</td>\n",
       "      <td>DS</td>\n",
       "    </tr>\n",
       "    <tr>\n",
       "      <th>2</th>\n",
       "      <td>DS</td>\n",
       "      <td>WD</td>\n",
       "    </tr>\n",
       "    <tr>\n",
       "      <th>3</th>\n",
       "      <td>WD</td>\n",
       "      <td>WD</td>\n",
       "    </tr>\n",
       "    <tr>\n",
       "      <th>4</th>\n",
       "      <td>WD</td>\n",
       "      <td>DS</td>\n",
       "    </tr>\n",
       "  </tbody>\n",
       "</table>\n",
       "</div>"
      ],
      "text/plain": [
       "    0   1\n",
       "0  WD  WD\n",
       "1  DS  DS\n",
       "2  DS  WD\n",
       "3  WD  WD\n",
       "4  WD  DS"
      ]
     },
     "execution_count": 21,
     "metadata": {},
     "output_type": "execute_result"
    }
   ],
   "source": [
    "cohorts = ['WD', 'WD', 'WD', 'DS']\n",
    "ntrials = nrows = 100_000\n",
    "npicks = ncols = 2\n",
    "students = np.random.choice(cohorts, ntrials * npicks).reshape(nrows, ncols)\n",
    "students = pd.DataFrame(students)\n",
    "students.head()"
   ]
  },
  {
   "cell_type": "code",
   "execution_count": 23,
   "id": "85407371",
   "metadata": {},
   "outputs": [
    {
     "name": "stdout",
     "output_type": "stream",
     "text": [
      "The odds of both billboards being data science students are: 6%\n"
     ]
    }
   ],
   "source": [
    "both_ds = students.apply(lambda row: (row.values[0] == \"DS\") and (row.values[1] == \"DS\"), axis=1).mean()\n",
    "print(f'The odds of both billboards being data science students are: {round(both_ds*100)}%')"
   ]
  },
  {
   "cell_type": "markdown",
   "id": "8c91e07e",
   "metadata": {},
   "source": [
    "4. <p>Codeup students buy, on average, 3 poptart packages with a standard deviation of 1.5 a day from the snack vending machine. If on monday the machine is restocked with 17 poptart packages, how likely is it that I will be able to buy some poptarts on Friday afternoon? (Remember, if you have mean and standard deviation, use the <code>np.random.normal</code>)</p>"
   ]
  },
  {
   "cell_type": "code",
   "execution_count": 24,
   "id": "22592bee",
   "metadata": {},
   "outputs": [
    {
     "data": {
      "text/html": [
       "<div>\n",
       "<style scoped>\n",
       "    .dataframe tbody tr th:only-of-type {\n",
       "        vertical-align: middle;\n",
       "    }\n",
       "\n",
       "    .dataframe tbody tr th {\n",
       "        vertical-align: top;\n",
       "    }\n",
       "\n",
       "    .dataframe thead th {\n",
       "        text-align: right;\n",
       "    }\n",
       "</style>\n",
       "<table border=\"1\" class=\"dataframe\">\n",
       "  <thead>\n",
       "    <tr style=\"text-align: right;\">\n",
       "      <th></th>\n",
       "      <th>0</th>\n",
       "      <th>1</th>\n",
       "      <th>2</th>\n",
       "      <th>3</th>\n",
       "      <th>4</th>\n",
       "    </tr>\n",
       "  </thead>\n",
       "  <tbody>\n",
       "    <tr>\n",
       "      <th>0</th>\n",
       "      <td>4</td>\n",
       "      <td>2</td>\n",
       "      <td>4</td>\n",
       "      <td>3</td>\n",
       "      <td>3</td>\n",
       "    </tr>\n",
       "    <tr>\n",
       "      <th>1</th>\n",
       "      <td>3</td>\n",
       "      <td>2</td>\n",
       "      <td>6</td>\n",
       "      <td>4</td>\n",
       "      <td>5</td>\n",
       "    </tr>\n",
       "    <tr>\n",
       "      <th>2</th>\n",
       "      <td>1</td>\n",
       "      <td>5</td>\n",
       "      <td>5</td>\n",
       "      <td>0</td>\n",
       "      <td>4</td>\n",
       "    </tr>\n",
       "    <tr>\n",
       "      <th>3</th>\n",
       "      <td>5</td>\n",
       "      <td>0</td>\n",
       "      <td>3</td>\n",
       "      <td>0</td>\n",
       "      <td>4</td>\n",
       "    </tr>\n",
       "    <tr>\n",
       "      <th>4</th>\n",
       "      <td>0</td>\n",
       "      <td>2</td>\n",
       "      <td>2</td>\n",
       "      <td>4</td>\n",
       "      <td>4</td>\n",
       "    </tr>\n",
       "  </tbody>\n",
       "</table>\n",
       "</div>"
      ],
      "text/plain": [
       "   0  1  2  3  4\n",
       "0  4  2  4  3  3\n",
       "1  3  2  6  4  5\n",
       "2  1  5  5  0  4\n",
       "3  5  0  3  0  4\n",
       "4  0  2  2  4  4"
      ]
     },
     "execution_count": 24,
     "metadata": {},
     "output_type": "execute_result"
    }
   ],
   "source": [
    "nrows = 100_000\n",
    "ncols = 5 \n",
    "\n",
    "tarts = np.random.normal(3, 1.5, nrows * ncols).astype(int).reshape(nrows, ncols)\n",
    "\n",
    "# convert to data frame\n",
    "tarts = pd.DataFrame(tarts)\n",
    "tarts.head()"
   ]
  },
  {
   "cell_type": "code",
   "execution_count": 26,
   "id": "b9778db7",
   "metadata": {},
   "outputs": [
    {
     "name": "stdout",
     "output_type": "stream",
     "text": [
      "The odds of Poptarts being vailable on a Friday afternoon are 88%\n"
     ]
    }
   ],
   "source": [
    "odds_tarts = tarts.apply(lambda row: row.values.sum() < 17, axis=1).mean()\n",
    "print(f'The odds of Poptarts being vailable on a Friday afternoon are {round(odds_tarts*100)}%')"
   ]
  },
  {
   "cell_type": "markdown",
   "id": "560dfdf7",
   "metadata": {},
   "source": [
    "5. <p>Compare Heights</p>\n",
    "<ul>\n",
    "<li>Men have an average height of 178 cm and standard deviation of 8cm.</li>\n",
    "<li>Women have a mean of 170, sd = 6cm.</li>\n",
    "<li>Since you have means and standard deviations, you can use <code>np.random.normal</code> to generate observations.</li>\n"
   ]
  },
  {
   "cell_type": "code",
   "execution_count": 27,
   "id": "c37331f1",
   "metadata": {},
   "outputs": [
    {
     "data": {
      "text/html": [
       "<div>\n",
       "<style scoped>\n",
       "    .dataframe tbody tr th:only-of-type {\n",
       "        vertical-align: middle;\n",
       "    }\n",
       "\n",
       "    .dataframe tbody tr th {\n",
       "        vertical-align: top;\n",
       "    }\n",
       "\n",
       "    .dataframe thead th {\n",
       "        text-align: right;\n",
       "    }\n",
       "</style>\n",
       "<table border=\"1\" class=\"dataframe\">\n",
       "  <thead>\n",
       "    <tr style=\"text-align: right;\">\n",
       "      <th></th>\n",
       "      <th>count</th>\n",
       "      <th>mean</th>\n",
       "      <th>std</th>\n",
       "      <th>min</th>\n",
       "      <th>25%</th>\n",
       "      <th>50%</th>\n",
       "      <th>75%</th>\n",
       "      <th>max</th>\n",
       "    </tr>\n",
       "  </thead>\n",
       "  <tbody>\n",
       "    <tr>\n",
       "      <th>male_hights</th>\n",
       "      <td>100000.0</td>\n",
       "      <td>177.991698</td>\n",
       "      <td>7.982052</td>\n",
       "      <td>140.168100</td>\n",
       "      <td>172.629426</td>\n",
       "      <td>177.985349</td>\n",
       "      <td>183.410168</td>\n",
       "      <td>211.105757</td>\n",
       "    </tr>\n",
       "    <tr>\n",
       "      <th>female_hights</th>\n",
       "      <td>100000.0</td>\n",
       "      <td>170.013496</td>\n",
       "      <td>5.996613</td>\n",
       "      <td>140.753171</td>\n",
       "      <td>165.997618</td>\n",
       "      <td>170.009912</td>\n",
       "      <td>174.068662</td>\n",
       "      <td>196.433181</td>\n",
       "    </tr>\n",
       "  </tbody>\n",
       "</table>\n",
       "</div>"
      ],
      "text/plain": [
       "                  count        mean       std         min         25%  \\\n",
       "male_hights    100000.0  177.991698  7.982052  140.168100  172.629426   \n",
       "female_hights  100000.0  170.013496  5.996613  140.753171  165.997618   \n",
       "\n",
       "                      50%         75%         max  \n",
       "male_hights    177.985349  183.410168  211.105757  \n",
       "female_hights  170.009912  174.068662  196.433181  "
      ]
     },
     "execution_count": 27,
     "metadata": {},
     "output_type": "execute_result"
    }
   ],
   "source": [
    "male_hights = np.random.normal(178, 8, 100_000)\n",
    "female_hights = np.random.normal(170, 6, 100_000)\n",
    "\n",
    "heights = pd.DataFrame({\"male_hights\" : male_hights,\n",
    "                   \"female_hights\" : female_hights})\n",
    "\n",
    "heights['female_taller'] = heights.female_hights > heights.male_hights\n",
    "heights.describe().T"
   ]
  },
  {
   "cell_type": "markdown",
   "id": "c68ab9a3",
   "metadata": {},
   "source": [
    "<li>If a man and woman are chosen at random, P(woman taller than man)?</li>\n"
   ]
  },
  {
   "cell_type": "code",
   "execution_count": 29,
   "id": "1d85f56f",
   "metadata": {},
   "outputs": [
    {
     "name": "stdout",
     "output_type": "stream",
     "text": [
      "The probability a randomly chosen woman is taller than a randomly chosen man,is 21%\n"
     ]
    }
   ],
   "source": [
    "taller_female = heights['female_taller'].mean()\n",
    "\n",
    "print(f\"The probability a randomly chosen woman is taller than a randomly chosen man,is {round(taller_female*100)}%\")"
   ]
  },
  {
   "cell_type": "markdown",
   "id": "80748ef9",
   "metadata": {},
   "source": [
    "6. <p>When installing anaconda on a student's computer, there's a 1 in 250 chance\n",
    "   that the download is corrupted and the installation fails. What are the odds\n",
    "   that after having 50 students download anaconda, no one has an installation\n",
    "   issue?  "
   ]
  },
  {
   "cell_type": "code",
   "execution_count": 32,
   "id": "42fe4d68",
   "metadata": {},
   "outputs": [
    {
     "data": {
      "text/html": [
       "<div>\n",
       "<style scoped>\n",
       "    .dataframe tbody tr th:only-of-type {\n",
       "        vertical-align: middle;\n",
       "    }\n",
       "\n",
       "    .dataframe tbody tr th {\n",
       "        vertical-align: top;\n",
       "    }\n",
       "\n",
       "    .dataframe thead th {\n",
       "        text-align: right;\n",
       "    }\n",
       "</style>\n",
       "<table border=\"1\" class=\"dataframe\">\n",
       "  <thead>\n",
       "    <tr style=\"text-align: right;\">\n",
       "      <th></th>\n",
       "      <th>0</th>\n",
       "      <th>1</th>\n",
       "      <th>2</th>\n",
       "      <th>3</th>\n",
       "      <th>4</th>\n",
       "      <th>5</th>\n",
       "      <th>6</th>\n",
       "      <th>7</th>\n",
       "      <th>8</th>\n",
       "      <th>9</th>\n",
       "      <th>...</th>\n",
       "      <th>40</th>\n",
       "      <th>41</th>\n",
       "      <th>42</th>\n",
       "      <th>43</th>\n",
       "      <th>44</th>\n",
       "      <th>45</th>\n",
       "      <th>46</th>\n",
       "      <th>47</th>\n",
       "      <th>48</th>\n",
       "      <th>49</th>\n",
       "    </tr>\n",
       "  </thead>\n",
       "  <tbody>\n",
       "    <tr>\n",
       "      <th>0</th>\n",
       "      <td>False</td>\n",
       "      <td>False</td>\n",
       "      <td>False</td>\n",
       "      <td>False</td>\n",
       "      <td>False</td>\n",
       "      <td>False</td>\n",
       "      <td>False</td>\n",
       "      <td>False</td>\n",
       "      <td>False</td>\n",
       "      <td>False</td>\n",
       "      <td>...</td>\n",
       "      <td>False</td>\n",
       "      <td>False</td>\n",
       "      <td>False</td>\n",
       "      <td>False</td>\n",
       "      <td>False</td>\n",
       "      <td>False</td>\n",
       "      <td>False</td>\n",
       "      <td>False</td>\n",
       "      <td>False</td>\n",
       "      <td>False</td>\n",
       "    </tr>\n",
       "    <tr>\n",
       "      <th>1</th>\n",
       "      <td>False</td>\n",
       "      <td>False</td>\n",
       "      <td>False</td>\n",
       "      <td>False</td>\n",
       "      <td>False</td>\n",
       "      <td>False</td>\n",
       "      <td>False</td>\n",
       "      <td>False</td>\n",
       "      <td>False</td>\n",
       "      <td>False</td>\n",
       "      <td>...</td>\n",
       "      <td>False</td>\n",
       "      <td>False</td>\n",
       "      <td>False</td>\n",
       "      <td>False</td>\n",
       "      <td>False</td>\n",
       "      <td>False</td>\n",
       "      <td>False</td>\n",
       "      <td>False</td>\n",
       "      <td>False</td>\n",
       "      <td>False</td>\n",
       "    </tr>\n",
       "    <tr>\n",
       "      <th>2</th>\n",
       "      <td>False</td>\n",
       "      <td>False</td>\n",
       "      <td>False</td>\n",
       "      <td>False</td>\n",
       "      <td>False</td>\n",
       "      <td>False</td>\n",
       "      <td>False</td>\n",
       "      <td>False</td>\n",
       "      <td>False</td>\n",
       "      <td>False</td>\n",
       "      <td>...</td>\n",
       "      <td>False</td>\n",
       "      <td>False</td>\n",
       "      <td>False</td>\n",
       "      <td>False</td>\n",
       "      <td>False</td>\n",
       "      <td>False</td>\n",
       "      <td>False</td>\n",
       "      <td>False</td>\n",
       "      <td>False</td>\n",
       "      <td>False</td>\n",
       "    </tr>\n",
       "    <tr>\n",
       "      <th>3</th>\n",
       "      <td>False</td>\n",
       "      <td>False</td>\n",
       "      <td>False</td>\n",
       "      <td>False</td>\n",
       "      <td>False</td>\n",
       "      <td>False</td>\n",
       "      <td>False</td>\n",
       "      <td>False</td>\n",
       "      <td>False</td>\n",
       "      <td>False</td>\n",
       "      <td>...</td>\n",
       "      <td>False</td>\n",
       "      <td>False</td>\n",
       "      <td>False</td>\n",
       "      <td>False</td>\n",
       "      <td>False</td>\n",
       "      <td>False</td>\n",
       "      <td>False</td>\n",
       "      <td>False</td>\n",
       "      <td>False</td>\n",
       "      <td>False</td>\n",
       "    </tr>\n",
       "    <tr>\n",
       "      <th>4</th>\n",
       "      <td>False</td>\n",
       "      <td>False</td>\n",
       "      <td>False</td>\n",
       "      <td>False</td>\n",
       "      <td>False</td>\n",
       "      <td>False</td>\n",
       "      <td>False</td>\n",
       "      <td>False</td>\n",
       "      <td>False</td>\n",
       "      <td>False</td>\n",
       "      <td>...</td>\n",
       "      <td>False</td>\n",
       "      <td>False</td>\n",
       "      <td>False</td>\n",
       "      <td>False</td>\n",
       "      <td>False</td>\n",
       "      <td>False</td>\n",
       "      <td>True</td>\n",
       "      <td>False</td>\n",
       "      <td>False</td>\n",
       "      <td>False</td>\n",
       "    </tr>\n",
       "  </tbody>\n",
       "</table>\n",
       "<p>5 rows × 50 columns</p>\n",
       "</div>"
      ],
      "text/plain": [
       "      0      1      2      3      4      5      6      7      8      9   ...  \\\n",
       "0  False  False  False  False  False  False  False  False  False  False  ...   \n",
       "1  False  False  False  False  False  False  False  False  False  False  ...   \n",
       "2  False  False  False  False  False  False  False  False  False  False  ...   \n",
       "3  False  False  False  False  False  False  False  False  False  False  ...   \n",
       "4  False  False  False  False  False  False  False  False  False  False  ...   \n",
       "\n",
       "      40     41     42     43     44     45     46     47     48     49  \n",
       "0  False  False  False  False  False  False  False  False  False  False  \n",
       "1  False  False  False  False  False  False  False  False  False  False  \n",
       "2  False  False  False  False  False  False  False  False  False  False  \n",
       "3  False  False  False  False  False  False  False  False  False  False  \n",
       "4  False  False  False  False  False  False   True  False  False  False  \n",
       "\n",
       "[5 rows x 50 columns]"
      ]
     },
     "execution_count": 32,
     "metadata": {},
     "output_type": "execute_result"
    }
   ],
   "source": [
    "nrows = 100_000 \n",
    "ncols = 50 \n",
    "\n",
    "problem_range = [False for r in range(1,250)]\n",
    "problem_range.append(True)\n",
    "\n",
    "installs = np.random.choice(problem_range, nrows * ncols).reshape(nrows, ncols)\n",
    "installs = pd.DataFrame(installs)\n",
    "installs.head()"
   ]
  },
  {
   "cell_type": "code",
   "execution_count": 33,
   "id": "6dc76263",
   "metadata": {},
   "outputs": [
    {
     "name": "stdout",
     "output_type": "stream",
     "text": [
      "The odds of 50 students dowloading Anaconda without a problem are 18%\n"
     ]
    }
   ],
   "source": [
    "corrupt = installs.apply(lambda row: row.values.sum() == 0, axis=1).mean()\n",
    "\n",
    "print(f'The odds of 50 students dowloading Anaconda without a problem are {100-(round(corrupt*100))}%')"
   ]
  },
  {
   "cell_type": "markdown",
   "id": "8f84c57b",
   "metadata": {},
   "source": [
    "- 100 students?</p>"
   ]
  },
  {
   "cell_type": "code",
   "execution_count": 34,
   "id": "4133ea89",
   "metadata": {},
   "outputs": [
    {
     "name": "stdout",
     "output_type": "stream",
     "text": [
      "The odds of 100 students dowloading Anaconda without a problem are 33%\n"
     ]
    }
   ],
   "source": [
    "nrows = 100_000 \n",
    "ncols = 100\n",
    "\n",
    "problem_range = [False for r in range(1,250)]\n",
    "problem_range.append(True)\n",
    "\n",
    "installs = np.random.choice(problem_range, nrows * ncols).reshape(nrows, ncols)\n",
    "installs = pd.DataFrame(installs)\n",
    "\n",
    "corrupt = installs.apply(lambda row: row.values.sum() == 0, axis=1).mean()\n",
    "\n",
    "print(f'The odds of 100 students dowloading Anaconda without a problem are {100-(round(corrupt*100))}%')"
   ]
  },
  {
   "cell_type": "markdown",
   "id": "896bfb84",
   "metadata": {},
   "source": [
    "- <p>What is the probability that we observe an installation issue within the first\n",
    "150 students that download anaconda?</p>"
   ]
  },
  {
   "cell_type": "code",
   "execution_count": 37,
   "id": "557570bb",
   "metadata": {},
   "outputs": [
    {
     "name": "stdout",
     "output_type": "stream",
     "text": [
      "The odds of 150 students downloading Anaconda without a problem are 45%\n"
     ]
    }
   ],
   "source": [
    "nrows = 100_000\n",
    "ncols = 150\n",
    "\n",
    "problem_range = [False for r in range(1,250)]\n",
    "problem_range.append(True)\n",
    "\n",
    "installs = np.random.choice(problem_range, nrows * ncols).reshape(nrows, ncols)\n",
    "installs = pd.DataFrame(installs)\n",
    "\n",
    "problems = installs.apply(lambda row: row.values.sum() > 0, axis=1).mean()\n",
    "\n",
    "print(f'The odds of 150 students downloading Anaconda without a problem are {round(problems*100)}%')\n"
   ]
  },
  {
   "cell_type": "markdown",
   "id": "94265dce",
   "metadata": {},
   "source": [
    "- <p>How likely is it that 450 students all download anaconda without an issue?</p>\n"
   ]
  },
  {
   "cell_type": "code",
   "execution_count": 38,
   "id": "f3597c0e",
   "metadata": {},
   "outputs": [
    {
     "name": "stdout",
     "output_type": "stream",
     "text": [
      "The odds of 450 students downloading Anaconda without a problem are 16%\n"
     ]
    }
   ],
   "source": [
    "nrows = 100_000\n",
    "ncols = 450\n",
    "\n",
    "problem_range = [False for r in range(1,250)]\n",
    "problem_range.append(True)\n",
    "\n",
    "installs = np.random.choice(problem_range, nrows * ncols).reshape(nrows, ncols)\n",
    "installs = pd.DataFrame(installs)\n",
    "\n",
    "no_problems = installs.apply(lambda row: row.values.sum() == 0, axis=1).mean()\n",
    "\n",
    "print(f'The odds of 450 students downloading Anaconda without a problem are {round(no_problems*100)}%')\n"
   ]
  },
  {
   "cell_type": "markdown",
   "id": "2ff777a9",
   "metadata": {},
   "source": [
    "7. <p>There's a 70% chance on any given day that there will be at least one food\n",
    "   truck at Travis Park. However, you haven't seen a food truck there in 3 days.\n",
    "   How unlikely is this?</p>"
   ]
  },
  {
   "cell_type": "code",
   "execution_count": 39,
   "id": "ae7b20de",
   "metadata": {},
   "outputs": [
    {
     "name": "stdout",
     "output_type": "stream",
     "text": [
      "The odds of no truck 3 days is 3%\n"
     ]
    }
   ],
   "source": [
    "nrows = 100_000 \n",
    "ncols = 3\n",
    "\n",
    "truck = np.random.choice([True, False], nrows * ncols, p=[.7,.3]).reshape(nrows, ncols)\n",
    "truck = pd.DataFrame(truck)\n",
    "\n",
    "no_truck = truck.apply(lambda row: row.values.sum() == 0, axis=1).mean()\n",
    "print(f'The odds of no truck 3 days is {round(no_truck*100)}%')\n"
   ]
  },
  {
   "cell_type": "markdown",
   "id": "d930882a",
   "metadata": {},
   "source": [
    "- <p>How likely is it that a food truck will show up sometime this week?</p>\n"
   ]
  },
  {
   "cell_type": "code",
   "execution_count": 41,
   "id": "f63d33d5",
   "metadata": {},
   "outputs": [
    {
     "name": "stdout",
     "output_type": "stream",
     "text": [
      "The odds of 1 truck in 7  days is 100%\n"
     ]
    }
   ],
   "source": [
    "nrows = 100_000 \n",
    "ncols = 7\n",
    "\n",
    "truck = np.random.choice([True, False], nrows * ncols, p=[.7,.3]).reshape(nrows, ncols)\n",
    "truck = pd.DataFrame(truck)\n",
    "\n",
    "yes_truck = truck.apply(lambda row: row.values.sum() > 0, axis=1).mean()\n",
    "print(f'The odds of 1 truck in 7  days is {round(yes_truck*100)}%')"
   ]
  },
  {
   "cell_type": "markdown",
   "id": "dbe9f4c9",
   "metadata": {},
   "source": [
    "8. <p>If 23 people are in the same room, what are the odds that two of them share a birthday? </p>"
   ]
  },
  {
   "cell_type": "code",
   "execution_count": 42,
   "id": "ac6f1d3b",
   "metadata": {},
   "outputs": [
    {
     "name": "stdout",
     "output_type": "stream",
     "text": [
      "The odds 23 people having at least two people that share a birthday are 51%\n"
     ]
    }
   ],
   "source": [
    "#from exercise review...\n",
    "\n",
    "nrows = 100_000\n",
    "ncols = 23\n",
    "\n",
    "bdays = np.random.choice([r for r in range(366)], nrows * ncols).reshape(nrows, ncols)\n",
    "bdays = pd.DataFrame(bdays)\n",
    "\n",
    "bdays['same'] = bdays.nunique(axis = 1) < ncols\n",
    "\n",
    "match = bdays['same'].mean()\n",
    "\n",
    "print(f'The odds 23 people having at least two people that share a birthday are {round(match*100)}%')\n",
    "\n"
   ]
  },
  {
   "cell_type": "markdown",
   "id": "5d45fbcb",
   "metadata": {},
   "source": [
    "- What if it's 20 people? "
   ]
  },
  {
   "cell_type": "code",
   "execution_count": null,
   "id": "9519bf4d",
   "metadata": {},
   "outputs": [],
   "source": []
  },
  {
   "cell_type": "markdown",
   "id": "dc5a6291",
   "metadata": {},
   "source": [
    "- 40?"
   ]
  },
  {
   "cell_type": "code",
   "execution_count": null,
   "id": "ad750d58",
   "metadata": {},
   "outputs": [],
   "source": []
  },
  {
   "cell_type": "markdown",
   "id": "346ff944",
   "metadata": {},
   "source": [
    "---"
   ]
  },
  {
   "cell_type": "markdown",
   "id": "1bee436e",
   "metadata": {},
   "source": [
    "<h4 id=\"bonus-exercises\">Bonus Exercises</h4>\n",
    "<"
   ]
  },
  {
   "cell_type": "markdown",
   "id": "9cf74a21",
   "metadata": {},
   "source": [
    "<li><a href=\"https://gist.github.com/ryanorsinger/2996446f02c1bf30fcb3f8fdb88bd51d\">Mage Duel</a></li>"
   ]
  },
  {
   "cell_type": "code",
   "execution_count": null,
   "id": "76d348fc",
   "metadata": {},
   "outputs": [],
   "source": []
  },
  {
   "cell_type": "markdown",
   "id": "1cb3f409",
   "metadata": {},
   "source": [
    "<li><a href=\"https://gist.github.com/ryanorsinger/eac1d7b7e978f90b8390bdc056312123\">Chuck a Luck</a></li>"
   ]
  },
  {
   "cell_type": "code",
   "execution_count": null,
   "id": "4caeeb5d",
   "metadata": {},
   "outputs": [],
   "source": []
  }
 ],
 "metadata": {
  "kernelspec": {
   "display_name": "Python 3",
   "language": "python",
   "name": "python3"
  },
  "language_info": {
   "codemirror_mode": {
    "name": "ipython",
    "version": 3
   },
   "file_extension": ".py",
   "mimetype": "text/x-python",
   "name": "python",
   "nbconvert_exporter": "python",
   "pygments_lexer": "ipython3",
   "version": "3.8.8"
  }
 },
 "nbformat": 4,
 "nbformat_minor": 5
}
