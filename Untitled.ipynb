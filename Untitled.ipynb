{
 "cells": [
  {
   "cell_type": "code",
   "execution_count": 1,
   "id": "cf141064",
   "metadata": {},
   "outputs": [],
   "source": [
    "import pandas as pd\n",
    "import numpy as np\n",
    "\n",
    "import matplotlib.pyplot as plt\n",
    "import seaborn as sns\n",
    "\n",
    "from math import sqrt\n",
    "from scipy import stats\n",
    "\n",
    "np.random.seed(123)\n",
    "\n",
    "from pydataset import data\n",
    "\n",
    "from env import host, user, password\n",
    "\n",
    "from wrangle_telco import wrangle_telco\n",
    "from explore import correlation_exploration"
   ]
  },
  {
   "cell_type": "code",
   "execution_count": 2,
   "id": "b5f08fdc",
   "metadata": {},
   "outputs": [],
   "source": [
    "# n_dice_per_experiment = ncols\n",
    "ncols = 10\n",
    "\n",
    "# n_experiments = nrows\n",
    "nrows = 100"
   ]
  },
  {
   "cell_type": "code",
   "execution_count": 3,
   "id": "533fba2d",
   "metadata": {},
   "outputs": [
    {
     "data": {
      "text/plain": [
       "array([[6, 3, 5, 3, 2, 4, 3, 4, 2, 2],\n",
       "       [1, 2, 2, 1, 1, 2, 4, 6, 5, 1],\n",
       "       [1, 5, 2, 4, 3, 5, 3, 5, 1, 6],\n",
       "       [1, 2, 4, 5, 5, 5, 2, 6, 4, 3]])"
      ]
     },
     "execution_count": 3,
     "metadata": {},
     "output_type": "execute_result"
    }
   ],
   "source": [
    "# Create 2-d array of random numbers between 1 and 6 to represent ten dice rolls for each column\n",
    "\n",
    "dataset = np.random.randint(1, 7, (nrows, ncols))\n",
    "\n",
    "dataset[:4]"
   ]
  },
  {
   "cell_type": "code",
   "execution_count": 4,
   "id": "4f7bd547",
   "metadata": {},
   "outputs": [
    {
     "data": {
      "text/plain": [
       "array([3.4, 2.5, 3.5, 3.7, 3.2, 4.7, 3.4, 3.2, 3.4, 3. , 3.7, 3.5, 4. ,\n",
       "       4.5, 2.9, 2.8, 2.9, 3.8, 3.2, 3.6, 3.4, 4. , 3.5, 3.3, 3.6, 3. ,\n",
       "       4.3, 3. , 3.3, 3.2, 4.2, 3.9, 3.2, 3.8, 3.6, 3.4, 2.7, 3.4, 3.2,\n",
       "       3.1, 3.2, 3. , 4.1, 3.3, 3. , 4.1, 3.4, 3.3, 2.9, 3.8, 3.4, 3.6,\n",
       "       3.9, 3.2, 4.7, 3.8, 3.5, 2.8, 3.8, 4.7, 4.1, 3.5, 2.8, 3.7, 3.4,\n",
       "       3.7, 3.6, 4.1, 3.6, 3.5, 2.9, 4. , 3.2, 3.4, 4.4, 2.9, 3.2, 3.9,\n",
       "       1.9, 3. , 3. , 3.5, 3.3, 4.4, 3.4, 4.2, 4.1, 3.2, 3.5, 3.5, 3.8,\n",
       "       3.1, 3.6, 2.9, 2.9, 4. , 3.3, 3.1, 3.4, 3.6])"
      ]
     },
     "execution_count": 4,
     "metadata": {},
     "output_type": "execute_result"
    }
   ],
   "source": [
    "# Calculate the average for each set of 10 dice rolls\n",
    "\n",
    "calculated_averages = dataset.mean(axis=1)\n",
    "calculated_averages"
   ]
  },
  {
   "cell_type": "code",
   "execution_count": 5,
   "id": "044861bf",
   "metadata": {},
   "outputs": [
    {
     "data": {
      "image/png": "[encoded data removed]",
      "text/plain": [
       "<Figure size 432x288 with 1 Axes>"
      ]
     },
     "metadata": {
      "needs_background": "light"
     },
     "output_type": "display_data"
    }
   ],
   "source": [
    "# Visualize the distribution of 100 observations of 10 dice rolls\n",
    "\n",
    "plt.hist(calculated_averages)\n",
    "plt.xlabel(f'Average of {ncols} Dice Rolls')\n",
    "plt.ylabel('# of Occurances')\n",
    "plt.title(f'Outcome of Averaging {ncols} Dice Rolls {nrows} Times')\n",
    "plt.show()"
   ]
  },
  {
   "cell_type": "code",
   "execution_count": null,
   "id": "dbc86941",
   "metadata": {},
   "outputs": [],
   "source": []
  }
 ],
 "metadata": {
  "kernelspec": {
   "display_name": "Python 3",
   "language": "python",
   "name": "python3"
  },
  "language_info": {
   "codemirror_mode": {
    "name": "ipython",
    "version": 3
   },
   "file_extension": ".py",
   "mimetype": "text/x-python",
   "name": "python",
   "nbconvert_exporter": "python",
   "pygments_lexer": "ipython3",
   "version": "3.8.8"
  }
 },
 "nbformat": 4,
 "nbformat_minor": 5
}
